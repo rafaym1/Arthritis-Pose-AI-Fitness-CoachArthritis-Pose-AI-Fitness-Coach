{
  "nbformat": 4,
  "nbformat_minor": 0,
  "metadata": {
    "colab": {
      "provenance": []
    },
    "kernelspec": {
      "name": "python3",
      "display_name": "Python 3"
    },
    "language_info": {
      "name": "python"
    }
  },
  "cells": [
    {
      "cell_type": "code",
      "source": [
        "import cv2\n",
        "import numpy as np\n",
        "import mediapipe as mp\n",
        "from google.colab.patches import cv2_imshow\n",
        "\n"
      ],
      "metadata": {
        "id": "ttIgDTfSWeDT"
      },
      "execution_count": null,
      "outputs": []
    },
    {
      "cell_type": "code",
      "source": [
        "class ArthritisPoseCoach:\n",
        "    def __init__(self):\n",
        "        # MediaPipe Pose Estimation\n",
        "        self.mp_pose = mp.solutions.pose\n",
        "        self.pose = self.mp_pose.Pose(\n",
        "            min_detection_confidence=0.5,\n",
        "            min_tracking_confidence=0.5\n",
        "        )\n",
        "\n",
        "        # Exercise recommendations\n",
        "        self.exercise_db = {\n",
        "            'low_mobility': [\n",
        "                \"Seated stretches\",\n",
        "                \"Gentle arm circles\",\n",
        "                \"Ankle rotations\"\n",
        "            ],\n",
        "            'medium_mobility': [\n",
        "                \"Resistance band exercises\",\n",
        "                \"Walking in place\",\n",
        "                \"Lightweight lifting\"\n",
        "            ],\n",
        "            'high_mobility': [\n",
        "                \"Yoga adaptations\",\n",
        "                \"Swimming exercises\",\n",
        "                \"Balance training\"\n",
        "            ]\n",
        "        }\n"
      ],
      "metadata": {
        "id": "rg3LuFSIWipE"
      },
      "execution_count": null,
      "outputs": []
    },
    {
      "cell_type": "code",
      "source": [
        "\n",
        "    def analyze_pose(self, frame):\n",
        "        \"\"\"Analyze body pose and calculate mobility score\"\"\"\n",
        "        # Convert BGR to RGB\n",
        "        rgb_frame = cv2.cvtColor(frame, cv2.COLOR_BGR2RGB)\n",
        "\n",
        "        # Process frame\n",
        "        results = self.pose.process(rgb_frame)\n",
        "\n",
        "        # Draw landmarks on the frame\n",
        "        annotated_frame = frame.copy()\n",
        "\n",
        "        if results.pose_landmarks:\n",
        "            # Draw landmarks\n",
        "            mp.solutions.drawing_utils.draw_landmarks(\n",
        "                annotated_frame,\n",
        "                results.pose_landmarks,\n",
        "                self.mp_pose.POSE_CONNECTIONS\n",
        "            )\n",
        "\n",
        "            # Angle calculation function\n",
        "            def calculate_angle(a, b, c):\n",
        "                a = np.array([a.x, a.y])\n",
        "                b = np.array([b.x, b.y])\n",
        "                c = np.array([c.x, c.y])\n",
        "\n",
        "                radians = np.arctan2(c[1]-b[1], c[0]-b[0]) - np.arctan2(a[1]-b[1], a[0]-b[0])\n",
        "                angle = np.abs(radians*180.0/np.pi)\n",
        "\n",
        "                return angle if angle <= 180 else 360 - angle\n",
        "\n",
        "            # Get landmarks\n",
        "            landmarks = results.pose_landmarks.landmark\n",
        "\n",
        "            # Calculate mobility metrics\n",
        "            mobility_metrics = {\n",
        "                'shoulder_mobility': calculate_angle(\n",
        "                    landmarks[self.mp_pose.PoseLandmarks.LEFT_SHOULDER],\n",
        "                    landmarks[self.mp_pose.PoseLandmarks.LEFT_ELBOW],\n",
        "                    landmarks[self.mp_pose.PoseLandmarks.LEFT_WRIST]\n",
        "                ),\n",
        "                'hip_mobility': calculate_angle(\n",
        "                    landmarks[self.mp_pose.PoseLandmarks.LEFT_HIP],\n",
        "                    landmarks[self.mp_pose.PoseLandmarks.LEFT_KNEE],\n",
        "                    landmarks[self.mp_pose.PoseLandmarks.LEFT_ANKLE]\n",
        "                )\n",
        "            }\n",
        "\n"
      ],
      "metadata": {
        "id": "1L4HQeR2Wl0U"
      },
      "execution_count": null,
      "outputs": []
    },
    {
      "cell_type": "code",
      "source": [
        "            # Determine mobility level\n",
        "            avg_mobility = sum(mobility_metrics.values()) / len(mobility_metrics)\n",
        "\n",
        "            mobility_level = (\n",
        "                'low_mobility' if avg_mobility < 60 else\n",
        "                'medium_mobility' if avg_mobility < 120 else\n",
        "                'high_mobility'\n",
        "            )\n",
        "\n",
        "            return {\n",
        "                'mobility_score': avg_mobility,\n",
        "                'mobility_level': mobility_level,\n",
        "                'recommended_exercises': self.exercise_db[mobility_level],\n",
        "                'frame': annotated_frame\n",
        "            }\n",
        "\n",
        "\n"
      ],
      "metadata": {
        "colab": {
          "base_uri": "https://localhost:8080/",
          "height": 211
        },
        "id": "gjb-dq4cWpfh",
        "outputId": "870129df-a5cf-47ea-81d6-a55809ecfd26"
      },
      "execution_count": null,
      "outputs": [
        {
          "output_type": "error",
          "ename": "NameError",
          "evalue": "name 'mobility_metrics' is not defined",
          "traceback": [
            "\u001b[0;31m---------------------------------------------------------------------------\u001b[0m",
            "\u001b[0;31mNameError\u001b[0m                                 Traceback (most recent call last)",
            "\u001b[0;32m<ipython-input-15-6dba9722dced>\u001b[0m in \u001b[0;36m<cell line: 2>\u001b[0;34m()\u001b[0m\n\u001b[1;32m      1\u001b[0m \u001b[0;31m# Determine mobility level\u001b[0m\u001b[0;34m\u001b[0m\u001b[0;34m\u001b[0m\u001b[0m\n\u001b[0;32m----> 2\u001b[0;31m \u001b[0mavg_mobility\u001b[0m \u001b[0;34m=\u001b[0m \u001b[0msum\u001b[0m\u001b[0;34m(\u001b[0m\u001b[0mmobility_metrics\u001b[0m\u001b[0;34m.\u001b[0m\u001b[0mvalues\u001b[0m\u001b[0;34m(\u001b[0m\u001b[0;34m)\u001b[0m\u001b[0;34m)\u001b[0m \u001b[0;34m/\u001b[0m \u001b[0mlen\u001b[0m\u001b[0;34m(\u001b[0m\u001b[0mmobility_metrics\u001b[0m\u001b[0;34m)\u001b[0m\u001b[0;34m\u001b[0m\u001b[0;34m\u001b[0m\u001b[0m\n\u001b[0m\u001b[1;32m      3\u001b[0m \u001b[0;34m\u001b[0m\u001b[0m\n\u001b[1;32m      4\u001b[0m mobility_level = (\n\u001b[1;32m      5\u001b[0m     \u001b[0;34m'low_mobility'\u001b[0m \u001b[0;32mif\u001b[0m \u001b[0mavg_mobility\u001b[0m \u001b[0;34m<\u001b[0m \u001b[0;36m60\u001b[0m \u001b[0;32melse\u001b[0m\u001b[0;34m\u001b[0m\u001b[0;34m\u001b[0m\u001b[0m\n",
            "\u001b[0;31mNameError\u001b[0m: name 'mobility_metrics' is not defined"
          ]
        }
      ]
    },
    {
      "cell_type": "code",
      "source": [
        "    def start_pose_tracking(self, video_path):\n",
        "        \"\"\"Pose tracking for Colab\"\"\"\n",
        "        # Open video capture\n",
        "        cap = cv2.VideoCapture(video_path)\n",
        "\n",
        "        while cap.isOpened():\n",
        "            success, frame = cap.read()\n",
        "            if not success:\n",
        "                break\n",
        "\n",
        "            # Analyze pose\n",
        "            pose_result = self.analyze_pose(frame)\n",
        "\n",
        "            if pose_result:\n",
        "                # Annotate frame with results\n",
        "                result_frame = pose_result['frame']\n",
        "                cv2.putText(\n",
        "                    result_frame,\n",
        "                    f\"Mobility: {pose_result['mobility_level']}\",\n",
        "                    (10, 30),\n",
        "                    cv2.FONT_HERSHEY_SIMPLEX,\n",
        "                    1,\n",
        "                    (0, 255, 0),\n",
        "                    2\n",
        "                )\n",
        "\n",
        "                # Display frame\n",
        "                cv2_imshow(result_frame)\n",
        "\n",
        "                # Print exercise recommendations\n",
        "                print(\"Recommended Exercises:\", pose_result['recommended_exercises'])\n",
        "\n",
        "        cap.release()\n"
      ],
      "metadata": {
        "id": "t7MrbvVQWrFN"
      },
      "execution_count": null,
      "outputs": []
    },
    {
      "cell_type": "code",
      "source": [
        "\n",
        "def main():\n",
        "\n",
        "    coach = ArthritisPoseCoach()\n",
        "    coach.start_pose_tracking('/content/video.mp4')\n",
        "\n",
        "if __name__ == \"__main__\":\n",
        "    main()"
      ],
      "metadata": {
        "id": "9qgM_945Ws3u"
      },
      "execution_count": null,
      "outputs": []
    }
  ]
}